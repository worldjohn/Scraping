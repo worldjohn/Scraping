{
 "cells": [
  {
   "cell_type": "code",
   "execution_count": 12,
   "metadata": {},
   "outputs": [],
   "source": [
    "from urllib.request import urlopen\n",
    "import requests as req\n",
    "from bs4 import BeautifulSoup as bs\n",
    "from selenium import webdriver\n",
    "from selenium.webdriver.common.by import By"
   ]
  },
  {
   "cell_type": "code",
   "execution_count": 13,
   "metadata": {},
   "outputs": [],
   "source": [
    "def get_book_image(no, url):\n",
    "    with urlopen(url) as f:\n",
    "        with open('./images/book/book' + str(no) +'.jpg','wb') as h:\n",
    "            data = f.read()\n",
    "            h.write(data)"
   ]
  },
  {
   "cell_type": "code",
   "execution_count": 16,
   "metadata": {},
   "outputs": [],
   "source": [
    "# requests는 막혀있으므로 selenium을 이용함\n",
    "def get_book_detail(no, book_url):\n",
    "    \n",
    "    # 브라우저를 열지않고 실행하기\n",
    "    options = webdriver.ChromeOptions()\n",
    "    options.add_argument('headless')\n",
    "    \n",
    "    browser = webdriver.Chrome(options=options)\n",
    "    #browser = webdriver.Chrome()\n",
    "    browser.get(book_url)\n",
    "    \n",
    "    reg = browser.page_source\n",
    "    soup = bs(reg, 'html.parser')\n",
    "    \n",
    "    title = soup.find('span', 'prod_title')\n",
    "    if title != None:\n",
    "        title = title.text\n",
    "        price = soup.find('span', 'price').find('span', 'val').text\n",
    "        author = soup.select_one('div.author > a').text\n",
    "        date = soup.select('table.tbl_row > tbody > tr')\n",
    "        if len(date) > 0:\n",
    "            date = date[1].find('td').text.strip()\n",
    "        else:\n",
    "            date = ''\n",
    "            \n",
    "        # 책이미지 저장하기\n",
    "        src = soup.select_one('div.portrait_img_box.portrait > img')['src']\n",
    "        if src != None:\n",
    "            get_book_image(no, src)\n",
    "        \n",
    "        # 매장별 재고 가져오기\n",
    "        regions = soup.select('div.tbl_col_wrap')\n",
    "        stocks = {}\n",
    "        for region in regions:\n",
    "            stores = region.select('th')\n",
    "            counts = region.select('span.text')\n",
    "            for i in range(min(len(stores), len(counts))):\n",
    "                store = stores[i].text\n",
    "                count = int(counts[i].text)\n",
    "                if store in ['평촌', '판교', '강남']:\n",
    "                    stocks[store] = count\n",
    "        print('제목:', title)\n",
    "        print('   링크:', book_url)\n",
    "        print('   가격:', price)\n",
    "        print('   저자:', author)\n",
    "        print('   발행일:', date)\n",
    "        print('   재고:', stocks)\n",
    "\n",
    "    browser.quit()"
   ]
  },
  {
   "cell_type": "code",
   "execution_count": 17,
   "metadata": {},
   "outputs": [
    {
     "name": "stdout",
     "output_type": "stream",
     "text": [
      "1. 제목: R을 이용한 웹 크롤링과 텍스트 분석\n",
      "   링크: https://product.kyobobook.co.kr/detail/S000001940404\n",
      "   가격: 22,000원\n",
      "   저자: 권상희\n",
      "   발행일: 2020년 08월 30일\n",
      "   재고: {'강남': 1, '판교': 0, '평촌': 0}\n",
      "--------------------------------------------------\n",
      "2. 제목: 한입에 웹 크롤링\n",
      "   링크: https://product.kyobobook.co.kr/detail/S000001890854\n",
      "   가격: 23,400원\n",
      "   저자: 김경록\n",
      "   발행일: 2018년 09월 28일\n",
      "   재고: {'강남': 1, '판교': 1, '평촌': 0}\n",
      "--------------------------------------------------\n",
      "3. 제목: 웹 크롤링 & 데이터 분석 with 파이썬\n",
      "   링크: https://product.kyobobook.co.kr/detail/S000001033130\n",
      "   가격: 18,000원\n",
      "   저자: 장철원\n",
      "   발행일: 2022년 01월 24일\n",
      "   재고: {'강남': 1, '판교': 2, '평촌': 1}\n",
      "--------------------------------------------------\n",
      "4. 제목: 파이썬을 이용한 퀀트 투자 포트폴리오 만들기\n",
      "   링크: https://product.kyobobook.co.kr/detail/S000200883665\n",
      "   가격: 27,000원\n",
      "   저자: 이현열\n",
      "   발행일: 2023년 02월 17일\n",
      "   재고: {'강남': 9, '판교': 1, '평촌': 1}\n",
      "--------------------------------------------------\n",
      "5. 제목: 파이썬과 40개의 작품들\n",
      "   링크: https://product.kyobobook.co.kr/detail/S000001870248\n",
      "   가격: 16,920원\n",
      "   저자: 장문철\n",
      "   발행일: 2022년 02월 28일\n",
      "   재고: {'강남': 4, '판교': 6, '평촌': 3}\n",
      "--------------------------------------------------\n",
      "도서 조회가 끝났습니다.\n"
     ]
    }
   ],
   "source": [
    "url = 'https://search.kyobobook.co.kr/search?gbCode=TOT&target=total&keyword='\n",
    "key_word = '크롤링'\n",
    "res = req.get(url + key_word)\n",
    "soup = bs(res.text, 'html.parser')\n",
    "\n",
    "books = soup.select('ul.prod_list > li.prod_item')\n",
    "\n",
    "for i in range(len(books)):\n",
    "    book_url = books[i].find('a', 'prod_info').get('href')\n",
    "    print(i + 1, end = '. ')\n",
    "    get_book_detail(i+1, book_url)\n",
    "    print('-----'*10)\n",
    "    \n",
    "    if i >= 4: break\n",
    "\n",
    "print('도서 조회가 끝났습니다.')"
   ]
  },
  {
   "cell_type": "code",
   "execution_count": null,
   "metadata": {},
   "outputs": [],
   "source": []
  },
  {
   "cell_type": "code",
   "execution_count": null,
   "metadata": {},
   "outputs": [],
   "source": []
  },
  {
   "cell_type": "code",
   "execution_count": null,
   "metadata": {},
   "outputs": [],
   "source": []
  },
  {
   "cell_type": "code",
   "execution_count": null,
   "metadata": {},
   "outputs": [],
   "source": []
  },
  {
   "cell_type": "code",
   "execution_count": null,
   "metadata": {},
   "outputs": [],
   "source": []
  },
  {
   "cell_type": "code",
   "execution_count": null,
   "metadata": {},
   "outputs": [],
   "source": []
  }
 ],
 "metadata": {
  "kernelspec": {
   "display_name": "Python 3",
   "language": "python",
   "name": "python3"
  },
  "language_info": {
   "codemirror_mode": {
    "name": "ipython",
    "version": 3
   },
   "file_extension": ".py",
   "mimetype": "text/x-python",
   "name": "python",
   "nbconvert_exporter": "python",
   "pygments_lexer": "ipython3",
   "version": "3.6.4"
  }
 },
 "nbformat": 4,
 "nbformat_minor": 2
}
