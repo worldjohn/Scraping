{
 "cells": [
  {
   "cell_type": "markdown",
   "metadata": {},
   "source": [
    "## 네이버 뉴스 페이지에 있는 여러 탭을 크롤링하기\n",
    "### 탭마다 구조가 다르므로 함수로 처리함"
   ]
  },
  {
   "cell_type": "code",
   "execution_count": 338,
   "metadata": {},
   "outputs": [],
   "source": [
    "import requests as req\n",
    "from bs4 import BeautifulSoup as bs\n",
    "import pandas as pd\n",
    "import re\n",
    "\n",
    "headers = {'User-Agent': 'Mozilla/5.0 (Windows NT 10.0; Win64; x64) AppleWebKit/537.36 (KHTML, like Gecko) Chrome/113.0.0.0 Safari/537.36'}"
   ]
  },
  {
   "cell_type": "code",
   "execution_count": 104,
   "metadata": {},
   "outputs": [],
   "source": [
    "# url을 request하고 html 코드를 받아서 parsing하는 함수\n",
    "def create_soup(url):\n",
    "    res = req.get(url, headers = headers)\n",
    "    soup = bs(res.text, 'html.parser')\n",
    "    return soup"
   ]
  },
  {
   "cell_type": "markdown",
   "metadata": {},
   "source": [
    "### 서로 다른 기능을 가진 탭별 크롤링 함수 생성 "
   ]
  },
  {
   "cell_type": "markdown",
   "metadata": {},
   "source": [
    "### 1. 헤드라인 뉴스 : scrape_headline_news()\n",
    "'정치', '경제', '사회', '생활/문화', 'IT/과학', '세계'는 구조가 동일함"
   ]
  },
  {
   "cell_type": "code",
   "execution_count": 224,
   "metadata": {},
   "outputs": [],
   "source": [
    "# '정치', '경제', '사회', '생활/문화', 'IT/과학', '세계'는 구조가 동일함\n",
    "def scrape_headline_news(sid):\n",
    "    url = 'https://news.naver.com/main/main.naver?mode=LSD&mid=shm&sid1=' + str(sid)\n",
    "    soup = create_soup(url)\n",
    "    \n",
    "    atags = soup.select('ul.sh_list > li > div.sh_text > a')\n",
    "    contents = soup.select('ul.sh_list > li > div.sh_text > div.sh_text_lede')\n",
    "\n",
    "    for i in range(len(atags)):        \n",
    "        title = atags[i].text\n",
    "        link = atags[i].get('href')\n",
    "        content = contents[i].text\n",
    "        print('{}. {}'.format(i+1, title))\n",
    "        print(link)\n",
    "        print(content)\n",
    "        print()"
   ]
  },
  {
   "cell_type": "markdown",
   "metadata": {},
   "source": [
    "### 2. 랭킹 : scrape_ranking()"
   ]
  },
  {
   "cell_type": "code",
   "execution_count": 399,
   "metadata": {},
   "outputs": [],
   "source": [
    "def scrape_ranking(papername):\n",
    "    \n",
    "    url = 'https://news.naver.com/main/ranking/popularDay.naver?mid=etc&sid1=111'\n",
    "    soup = create_soup(url)\n",
    "    \n",
    "    soup_all = soup.find_all(class_ = re.compile('^_officeCard _officeCard'))\n",
    "    break_flg = False\n",
    "    for page in soup_all:\n",
    "        newspapers = page.select('div.rankingnews_box')\n",
    "        for newspaper in newspapers:\n",
    "            atags = newspaper.select('a > strong')\n",
    "            for atag in atags:\n",
    "                if atag.text == papername:\n",
    "                    print(atag.text)\n",
    "                    get_ranking_news(newspaper)\n",
    "                    \n",
    "                    break_flg = True  # 검색대상 언론사를 찾으면 작업 후 빠져 나간다.\n",
    "                    break\n",
    "            if break_flg:\n",
    "                break\n",
    "        if break_flg:\n",
    "            break\n",
    "\n",
    "def get_ranking_news(newspaper):\n",
    "    articles = newspaper.select(\"a.list_title\")\n",
    "\n",
    "    for i in range(len(articles)):\n",
    "        title = articles[i].text\n",
    "        link = articles[i].get('href')\n",
    "        print('{}. {}'.format(i+1, title))\n",
    "        print(link)\n",
    "        print()"
   ]
  },
  {
   "cell_type": "code",
   "execution_count": 402,
   "metadata": {},
   "outputs": [
    {
     "name": "stdout",
     "output_type": "stream",
     "text": [
      "언론사명을 입력하세요(예, 한국일보):경향신문\n",
      "경향신문\n",
      "1. 박주민 “원희룡 장관, 부디 사람이 먼저 되시라”\n",
      "https://n.news.naver.com/article/032/0003224055?ntype=RANKING\n",
      "\n",
      "2. 연예계 대표 미스터리 김성재 사망 사건, 당시 사건일지부터 단독 인터뷰까지[옛날잡지]\n",
      "https://n.news.naver.com/article/032/0003224070?ntype=RANKING\n",
      "\n",
      "3. 문재인 전 대통령 “5·18은 민주주의 뿌리”…퇴임 후 첫 참배\n",
      "https://n.news.naver.com/article/032/0003224072?ntype=RANKING\n",
      "\n",
      "4. 간호협회 “오늘부터 대리처방·수술 거부···면허증 반납하겠다”\n",
      "https://n.news.naver.com/article/032/0003224033?ntype=RANKING\n",
      "\n",
      "5. ‘음주단속 교통경찰관’이 음주운전 하다 사고\n",
      "https://n.news.naver.com/article/032/0003224068?ntype=RANKING\n",
      "\n"
     ]
    }
   ],
   "source": [
    "while True:\n",
    "    #sid = input('검색하고자 하는 뉴스의 분야를 숫자로 입력하세요:\\n언론사별:0 정치:1 경제:2 사회:3 생활/문화:4 세계:5 IT/과학:6 랭킹:7 신문보기:8 오피니언:9 팩트체크:10 종료:999\\n')\n",
    "    sid = '7'\n",
    "    if not sid.isdigit():\n",
    "        continue\n",
    "    else:\n",
    "        sid = int(sid)\n",
    "        \n",
    "    if sid == 999:\n",
    "        break\n",
    "    elif 0 < sid and sid < 7:\n",
    "        scrape_headline_news(sid + 99)  # 정치: 100, 경제: 101 ...\n",
    "    elif sid == 7:\n",
    "        newspaper = input('언론사명을 입력하세요(예, 한국일보):')\n",
    "        scrape_ranking(newspaper)\n",
    "    else:\n",
    "        print('7부터 10까지')\n",
    "    \n",
    "    break"
   ]
  },
  {
   "cell_type": "code",
   "execution_count": null,
   "metadata": {},
   "outputs": [],
   "source": []
  },
  {
   "cell_type": "code",
   "execution_count": null,
   "metadata": {},
   "outputs": [],
   "source": []
  },
  {
   "cell_type": "code",
   "execution_count": null,
   "metadata": {},
   "outputs": [],
   "source": []
  },
  {
   "cell_type": "code",
   "execution_count": null,
   "metadata": {},
   "outputs": [],
   "source": []
  },
  {
   "cell_type": "code",
   "execution_count": null,
   "metadata": {},
   "outputs": [],
   "source": []
  },
  {
   "cell_type": "code",
   "execution_count": null,
   "metadata": {},
   "outputs": [],
   "source": []
  },
  {
   "cell_type": "code",
   "execution_count": null,
   "metadata": {},
   "outputs": [],
   "source": []
  },
  {
   "cell_type": "code",
   "execution_count": null,
   "metadata": {},
   "outputs": [],
   "source": []
  },
  {
   "cell_type": "code",
   "execution_count": null,
   "metadata": {},
   "outputs": [],
   "source": []
  },
  {
   "cell_type": "code",
   "execution_count": null,
   "metadata": {},
   "outputs": [],
   "source": []
  }
 ],
 "metadata": {
  "kernelspec": {
   "display_name": "Python 3",
   "language": "python",
   "name": "python3"
  },
  "language_info": {
   "codemirror_mode": {
    "name": "ipython",
    "version": 3
   },
   "file_extension": ".py",
   "mimetype": "text/x-python",
   "name": "python",
   "nbconvert_exporter": "python",
   "pygments_lexer": "ipython3",
   "version": "3.6.4"
  }
 },
 "nbformat": 4,
 "nbformat_minor": 2
}
