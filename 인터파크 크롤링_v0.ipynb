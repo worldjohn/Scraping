{
 "cells": [
  {
   "cell_type": "code",
   "execution_count": 1,
   "metadata": {},
   "outputs": [],
   "source": [
    "import requests as req\n",
    "from urllib.request import urlopen\n",
    "from bs4 import BeautifulSoup as bs"
   ]
  },
  {
   "cell_type": "code",
   "execution_count": 12,
   "metadata": {},
   "outputs": [],
   "source": [
    "def get_item_detail(tab, url, max_cnt):\n",
    "    \n",
    "    res = req.get(url)\n",
    "    soup = bs(res.text, 'html.parser')\n",
    "    #print(soup)\n",
    "    \n",
    "    items = soup.select('dl.Tview')\n",
    "    n = 1\n",
    "    for item in items:\n",
    "        print(item.select_one('dd > span.txt1').text)\n",
    "        print(item.select_one('dd > span.txt2').text)\n",
    "        print(item.select_one('dd > span.txt3').text)\n",
    "        image = item.select_one('dt > a > span > img')\n",
    "        if image != None:\n",
    "            img_url = image['src']\n",
    "\n",
    "            with urlopen(img_url) as f:\n",
    "                with open('./images/' + tab + str(n)+'.jpg','wb') as h:\n",
    "                    data = f.read()\n",
    "                    h.write(data)\n",
    "        n += 1            \n",
    "        print('--------'*5)"
   ]
  },
  {
   "cell_type": "code",
   "execution_count": 15,
   "metadata": {},
   "outputs": [
    {
     "name": "stdout",
     "output_type": "stream",
     "text": [
      "모차르트!\n",
      "세종문화회관 대극장\n",
      "23-06-15 ~ 23-08-22\n",
      "----------------------------------------\n",
      "맘마미아!\n",
      "충무아트센터 대극장\n",
      "23-03-24 ~ 23-06-25\n",
      "----------------------------------------\n",
      "오페라의 유령\n",
      "서울, 부산\n",
      "23-03-25 ~ 23-11-17\n",
      "----------------------------------------\n",
      "식스\n",
      "coex 신한카드 artium\n",
      "23-03-31 ~ 23-06-25\n",
      "----------------------------------------\n",
      "시카고\n",
      "블루스퀘어 신한카드홀\n",
      "23-05-27 ~ 23-08-06\n",
      "----------------------------------------\n",
      "데스노트\n",
      "샤롯데씨어터\n",
      "23-03-28 ~ 23-06-18\n",
      "----------------------------------------\n"
     ]
    }
   ],
   "source": [
    "tabs = {'뮤지컬': 'Musical', '콘서트': 'Concert', '연극': 'Drama', '클래식': 'Classic'}\n",
    "\n",
    "max_cnt = 5\n",
    "for key, value in tabs.items():\n",
    "    url = f'https://ticket.interpark.com/{value}Index.asp'\n",
    "    \n",
    "    get_item_detail(key, url, max_cnt)\n",
    "    \n",
    "    if key == '뮤지컬': break\n",
    "\n",
    "print('크롤링이 끝났습니다.')"
   ]
  },
  {
   "cell_type": "code",
   "execution_count": null,
   "metadata": {},
   "outputs": [],
   "source": []
  },
  {
   "cell_type": "code",
   "execution_count": null,
   "metadata": {},
   "outputs": [],
   "source": []
  },
  {
   "cell_type": "code",
   "execution_count": null,
   "metadata": {},
   "outputs": [],
   "source": []
  },
  {
   "cell_type": "code",
   "execution_count": null,
   "metadata": {},
   "outputs": [],
   "source": []
  },
  {
   "cell_type": "code",
   "execution_count": null,
   "metadata": {},
   "outputs": [],
   "source": []
  },
  {
   "cell_type": "code",
   "execution_count": null,
   "metadata": {},
   "outputs": [],
   "source": []
  },
  {
   "cell_type": "code",
   "execution_count": null,
   "metadata": {},
   "outputs": [],
   "source": []
  }
 ],
 "metadata": {
  "kernelspec": {
   "display_name": "Python 3",
   "language": "python",
   "name": "python3"
  },
  "language_info": {
   "codemirror_mode": {
    "name": "ipython",
    "version": 3
   },
   "file_extension": ".py",
   "mimetype": "text/x-python",
   "name": "python",
   "nbconvert_exporter": "python",
   "pygments_lexer": "ipython3",
   "version": "3.6.4"
  }
 },
 "nbformat": 4,
 "nbformat_minor": 2
}
