{
 "cells": [
  {
   "cell_type": "code",
   "execution_count": null,
   "metadata": {},
   "outputs": [],
   "source": [
    "import requests as req\n",
    "from bs4 import BeautifulSoup as bs\n",
    "from selenium import webdriver\n",
    "from selenium.webdriver.common.by import By"
   ]
  },
  {
   "cell_type": "code",
   "execution_count": null,
   "metadata": {},
   "outputs": [],
   "source": [
    "url = 'https://search.kyobobook.co.kr/search?gbCode=TOT&target=total&keyword='\n",
    "key_word = '크롤링'\n",
    "res = req.get(url + key_word)\n",
    "soup = bs(res.text, 'html.parser')\n",
    "print(soup)"
   ]
  },
  {
   "cell_type": "code",
   "execution_count": null,
   "metadata": {},
   "outputs": [],
   "source": [
    "# requests는 막혀있으므로 selenium을 이용함\n",
    "def get_book_detail(book_url):\n",
    "    browser = webdriver.Chrome()  # 크롬드라이버의 실행파일을 가리킴\n",
    "    browser.get(book_url)\n",
    "    \n",
    "    reg = browser.page_source\n",
    "    soup = bs(reg, 'html.parser')\n",
    "    \n",
    "    title = soup.find('span', 'prod_title').text\n",
    "    price = soup.find('span', 'price').find('span', 'val').text\n",
    "    author = soup.select_one('div.author > a').text\n",
    "    date = soup.select_one('div.prod_info_text.publish_date')\n",
    "    print(title)\n",
    "    print(price)\n",
    "    print(author)\n",
    "    print(date)\n",
    "\n",
    "    #print(soup)"
   ]
  },
  {
   "cell_type": "code",
   "execution_count": null,
   "metadata": {},
   "outputs": [],
   "source": [
    "books = soup.select('ul.prod_list > li.prod_item')\n",
    "\n",
    "for i in range(len(books)):\n",
    "    book_url = books[i].find('a', 'prod_info').get('href')\n",
    "    print(book_url)\n",
    "    get_book_detail(book_url)\n",
    "    \n",
    "    \n",
    "    \n",
    "    \n",
    "    \n",
    "    if i >= 0: break"
   ]
  },
  {
   "cell_type": "code",
   "execution_count": null,
   "metadata": {},
   "outputs": [],
   "source": []
  }
 ],
 "metadata": {
  "kernelspec": {
   "display_name": "Python 3",
   "language": "python",
   "name": "python3"
  },
  "language_info": {
   "codemirror_mode": {
    "name": "ipython",
    "version": 3
   },
   "file_extension": ".py",
   "mimetype": "text/x-python",
   "name": "python",
   "nbconvert_exporter": "python",
   "pygments_lexer": "ipython3",
   "version": "3.6.4"
  }
 },
 "nbformat": 4,
 "nbformat_minor": 2
}
